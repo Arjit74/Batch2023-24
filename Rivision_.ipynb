{
 "cells": [
  {
   "cell_type": "code",
   "execution_count": null,
   "metadata": {},
   "outputs": [],
   "source": [
    "# read three value in a single line \n",
    "a, b, c = list(map(int, input().split()))  # 34 2 8\n",
    "out = max(a, b, c)\n",
    "print(out)"
   ]
  },
  {
   "cell_type": "code",
   "execution_count": 9,
   "metadata": {},
   "outputs": [
    {
     "name": "stdout",
     "output_type": "stream",
     "text": [
      "[34.0, 5.0, 6.0]\n"
     ]
    }
   ],
   "source": [
    "lst = [34, 5, 6]\n",
    "out = list(map(float, lst))\n",
    "print(out)"
   ]
  },
  {
   "cell_type": "code",
   "execution_count": 8,
   "metadata": {},
   "outputs": [
    {
     "data": {
      "text/plain": [
       "[]"
      ]
     },
     "execution_count": 8,
     "metadata": {},
     "output_type": "execute_result"
    }
   ],
   "source": [
    "list(out)"
   ]
  },
  {
   "cell_type": "code",
   "execution_count": 1,
   "metadata": {},
   "outputs": [
    {
     "name": "stdout",
     "output_type": "stream",
     "text": [
      "(3, 5, 6, 100)\n"
     ]
    }
   ],
   "source": [
    "# add the item to tuple \n",
    "\n",
    "tp = (3, 5, 6)\n",
    "item = int(input('Enter the item '))\n",
    "tp += item,\n",
    "print(tp)"
   ]
  },
  {
   "cell_type": "code",
   "execution_count": 8,
   "metadata": {},
   "outputs": [
    {
     "name": "stdout",
     "output_type": "stream",
     "text": [
      "tp=(34, 5, 45, [33, 5, 100])\n",
      "copy_tp=(34, 5, 45, [33, 5])\n"
     ]
    }
   ],
   "source": [
    "tp = (34, 5, 45, [33, 5])\n",
    "copy_tp = eval(str(tp))\n",
    "\n",
    "tp[-1].append(100)\n",
    "\n",
    "print(f'{tp=}')\n",
    "print(f'{copy_tp=}')"
   ]
  },
  {
   "cell_type": "code",
   "execution_count": 16,
   "metadata": {},
   "outputs": [
    {
     "name": "stdout",
     "output_type": "stream",
     "text": [
      "[34.0, 5.0, 6.0, 8.0]\n"
     ]
    }
   ],
   "source": [
    "# generator expression \n",
    "kp = [34, 5, 6, 8]\n",
    "tp = list(float(i) for i in kp)\n",
    "print(tp)"
   ]
  },
  {
   "cell_type": "code",
   "execution_count": 20,
   "metadata": {},
   "outputs": [
    {
     "name": "stdout",
     "output_type": "stream",
     "text": [
      "[1, 2, 'h', 'e', 'l', 'l', 'o', 34]\n"
     ]
    }
   ],
   "source": [
    "lst = 'hello'\n",
    "new_lst = [1, 2, *lst, 34]\n",
    "print(new_lst)"
   ]
  },
  {
   "cell_type": "code",
   "execution_count": 27,
   "metadata": {},
   "outputs": [
    {
     "name": "stdout",
     "output_type": "stream",
     "text": [
      "(1, 2, 3) <class 'tuple'>\n"
     ]
    }
   ],
   "source": [
    "u = *range(1, 4),\n",
    "print(u, type(u))"
   ]
  },
  {
   "cell_type": "code",
   "execution_count": 38,
   "metadata": {},
   "outputs": [
    {
     "name": "stdout",
     "output_type": "stream",
     "text": [
      "[1, 2, 3, 4, 5, 6, 7, 8] <class 'list'>\n"
     ]
    }
   ],
   "source": [
    "*st, u = *range(1, 10),\n",
    "print(st, type(st))"
   ]
  },
  {
   "cell_type": "code",
   "execution_count": 43,
   "metadata": {},
   "outputs": [
    {
     "name": "stdout",
     "output_type": "stream",
     "text": [
      "(23, 6, 7, [], ())\n"
     ]
    }
   ],
   "source": [
    "# list in tuple \n",
    "tp = (23, 6, 7, [3, 5], ())\n",
    "tp[-2].clear()\n",
    "print(tp)"
   ]
  },
  {
   "cell_type": "code",
   "execution_count": 50,
   "metadata": {},
   "outputs": [
    {
     "name": "stdout",
     "output_type": "stream",
     "text": [
      "2693873575616\n",
      "140705049536184\n",
      "[3, 5, 6, (), [4, 6]]\n"
     ]
    }
   ],
   "source": [
    "# tuple in a list\n",
    "lst = [3, 5, 6, (3, 5, 6), [4, 6]]\n",
    "print(id(lst[-2]))\n",
    "lst[-2] = ()\n",
    "print(id(lst[-2]))\n",
    "print(lst)"
   ]
  },
  {
   "cell_type": "code",
   "execution_count": null,
   "metadata": {},
   "outputs": [],
   "source": [
    "lst = [('amkr', 2333), ('kmprt', 32244), ('glauni', 3232)]\n"
   ]
  }
 ],
 "metadata": {
  "kernelspec": {
   "display_name": "Python 3",
   "language": "python",
   "name": "python3"
  },
  "language_info": {
   "codemirror_mode": {
    "name": "ipython",
    "version": 3
   },
   "file_extension": ".py",
   "mimetype": "text/x-python",
   "name": "python",
   "nbconvert_exporter": "python",
   "pygments_lexer": "ipython3",
   "version": "3.12.0"
  }
 },
 "nbformat": 4,
 "nbformat_minor": 2
}
