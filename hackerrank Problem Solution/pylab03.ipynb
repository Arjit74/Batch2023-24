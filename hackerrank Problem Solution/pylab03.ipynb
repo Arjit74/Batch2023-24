{
 "cells": [
  {
   "cell_type": "code",
   "execution_count": 2,
   "metadata": {},
   "outputs": [
    {
     "name": "stdout",
     "output_type": "stream",
     "text": [
      "p y t h o n h e l l o p y t h o n h e l l o\n"
     ]
    }
   ],
   "source": [
    "# Gully Boy Boht Hard Question\n",
    "st = input()\n",
    "node = int(input())\n",
    "rp = int(input())\n",
    "\n",
    "re = st[node:] + st[:node]  # complete string with circular shift\n",
    "re = re.replace(' ', '')  # remove spaces\n",
    "re = re * rp  # repeat string\n",
    "\n",
    "print(*re)"
   ]
  }
 ],
 "metadata": {
  "kernelspec": {
   "display_name": "Python 3",
   "language": "python",
   "name": "python3"
  },
  "language_info": {
   "codemirror_mode": {
    "name": "ipython",
    "version": 3
   },
   "file_extension": ".py",
   "mimetype": "text/x-python",
   "name": "python",
   "nbconvert_exporter": "python",
   "pygments_lexer": "ipython3",
   "version": "3.10.7"
  },
  "orig_nbformat": 4
 },
 "nbformat": 4,
 "nbformat_minor": 2
}
