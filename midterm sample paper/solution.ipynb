{
 "cells": [
  {
   "cell_type": "code",
   "execution_count": 5,
   "metadata": {},
   "outputs": [
    {
     "name": "stdout",
     "output_type": "stream",
     "text": [
      "Sum of the numbers divisible by 2 and 3 upto n is 6\n"
     ]
    }
   ],
   "source": [
    "# sum of the numbers divisible by 2 and 3 upto n\n",
    "\n",
    "n = int(input(\"Enter the value of n: \"))\n",
    "sum = 0\n",
    "for i in range(1, n+1):\n",
    "    if i % 2 == 0 and i % 3 == 0:\n",
    "        sum += i\n",
    "print(\"Sum of the numbers divisible by 2 and 3 upto n is\", sum)"
   ]
  },
  {
   "cell_type": "code",
   "execution_count": null,
   "metadata": {},
   "outputs": [],
   "source": [
    "# number of vowels in a string\n",
    "\n",
    "string = input(\"Enter a string: \")\n",
    "count = 0\n",
    "for i in string:\n",
    "    if i in \"aeiouAEIOU\":\n",
    "        count += 1\n",
    "print(\"Number of vowels in the string is\", count)"
   ]
  }
 ],
 "metadata": {
  "kernelspec": {
   "display_name": "Python 3",
   "language": "python",
   "name": "python3"
  },
  "language_info": {
   "codemirror_mode": {
    "name": "ipython",
    "version": 3
   },
   "file_extension": ".py",
   "mimetype": "text/x-python",
   "name": "python",
   "nbconvert_exporter": "python",
   "pygments_lexer": "ipython3",
   "version": "3.12.0"
  }
 },
 "nbformat": 4,
 "nbformat_minor": 2
}
