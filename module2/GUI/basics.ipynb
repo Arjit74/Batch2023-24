{
 "cells": [
  {
   "cell_type": "code",
   "execution_count": null,
   "metadata": {},
   "outputs": [],
   "source": [
    "# BEST PYTHON GUI FRAMEWORKS TO KNOW\n",
    "# PyQt5\n",
    "# Tkinter\n",
    "# Kivy\n",
    "# wxPython\n",
    "# Libavg\n",
    "# PySimpleGUI\n",
    "# PyForms\n",
    "# Wax\n",
    "# PySide2\n",
    "# PyGUI"
   ]
  },
  {
   "cell_type": "code",
   "execution_count": 3,
   "metadata": {},
   "outputs": [],
   "source": [
    "import numpy\n",
    "import PyQt5"
   ]
  }
 ],
 "metadata": {
  "kernelspec": {
   "display_name": "base",
   "language": "python",
   "name": "python3"
  },
  "language_info": {
   "codemirror_mode": {
    "name": "ipython",
    "version": 3
   },
   "file_extension": ".py",
   "mimetype": "text/x-python",
   "name": "python",
   "nbconvert_exporter": "python",
   "pygments_lexer": "ipython3",
   "version": "3.11.5"
  }
 },
 "nbformat": 4,
 "nbformat_minor": 2
}
