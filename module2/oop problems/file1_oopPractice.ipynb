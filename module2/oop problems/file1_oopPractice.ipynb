{
 "cells": [
  {
   "cell_type": "code",
   "execution_count": null,
   "metadata": {},
   "outputs": [],
   "source": [
    "# Question 1\n",
    "class shape:\n",
    "    def __init__(self, side1, side2):\n",
    "        self.side1 = side1\n",
    "        self.side2 = side2\n",
    "    def area(self):\n",
    "        return self.side1 * self.side2\n",
    "    \n",
    "    def perimeter(self):\n",
    "        return 2 * (self.side1 + self.side2)\n",
    "class Rectangle(shape):\n",
    "    def __init__(self, length, breadth):\n",
    "        super().__init__(length, breadth)\n",
    "class Square(shape):\n",
    "    def __init__(self, side) -> None:\n",
    "        super().__init__(side, side) \n",
    "# driver code \n",
    "l = int(input('Enter the length '))\n",
    "b = int(input('Enter the Breadth '))\n",
    "rec = Rectangle(l, b)\n",
    "area = rec.area()\n",
    "peri = rec.perimeter()\n",
    "print(f'Area of Rectangle with given dimensions {l} and {b} is {area}')\n",
    "print(f'Perimeter of Rectangle with given dimensions {l} and {b} is {peri}')"
   ]
  }
 ],
 "metadata": {
  "language_info": {
   "name": "python"
  }
 },
 "nbformat": 4,
 "nbformat_minor": 2
}
