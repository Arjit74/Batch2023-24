{
 "cells": [
  {
   "cell_type": "code",
   "execution_count": 7,
   "metadata": {},
   "outputs": [],
   "source": [
    "class BankAccount:\n",
    "    def __init__(self, account_number, account_holder, balance=0):\n",
    "        self.account_number = account_number\n",
    "        self.account_holder = account_holder\n",
    "        self.balance = balance\n",
    "\n",
    "    def deposit(self, amount):\n",
    "        if amount >= 0:\n",
    "            self.balance += amount\n",
    "            return \"Amount credited successfully\"\n",
    "        else:\n",
    "            return('Invalid Amount')\n",
    "    def withdraw(self,amount):\n",
    "        if amount>self.balance:\n",
    "            return \"Insufficient balance\"\n",
    "        elif amount<=0:\n",
    "            return \"Invalid amount\"\n",
    "        else:\n",
    "            self.balance-=amount\n",
    "            return f\"Rs.{amount} debited from your account\"\n",
    "    def display_balance(self):\n",
    "        print(f\"Total Balance: {self.balance}\")\n",
    "    def getAccInfo(self):\n",
    "        return f'''Account number: {self.account_number}\n",
    "Account Holder: {self.account_holder}\n",
    "Total Balance: {self.balance}'''"
   ]
  },
  {
   "cell_type": "code",
   "execution_count": null,
   "metadata": {},
   "outputs": [],
   "source": []
  },
  {
   "cell_type": "code",
   "execution_count": null,
   "metadata": {},
   "outputs": [],
   "source": []
  },
  {
   "cell_type": "code",
   "execution_count": 9,
   "metadata": {},
   "outputs": [],
   "source": [
    "class SavingsAccount(BankAccount):\n",
    "    def __init__(self, account_number, account_holder, balance=0, interest_rate=0.02):\n",
    "        super().__init__(account_number, account_holder, balance)\n",
    "        self.interest_rate = interest_rate\n",
    "\n",
    "    def add_interest(self):\n",
    "        interest = self.balance * self.interest_rate\n",
    "        self.balance += interest\n",
    "        print(f\"Interest added: {interest}. New balance: {self.balance}\")\n"
   ]
  },
  {
   "cell_type": "code",
   "execution_count": 10,
   "metadata": {},
   "outputs": [],
   "source": [
    "class CheckingAccount(BankAccount):\n",
    "    def __init__(self, account_number, account_holder, balance=0, overdraft_limit=100):\n",
    "        super().__init__(account_number, account_holder, balance)\n",
    "        self.overdraft_limit = overdraft_limit\n",
    "\n",
    "    def withdraw(self, amount):\n",
    "        if amount <= (self.balance + self.overdraft_limit):\n",
    "            self.balance -= amount\n",
    "            print(f\"Withdrew {amount}. New balance: {self.balance}\")\n",
    "        else:\n",
    "            print(\"Insufficient funds! Overdraft limit reached.\")\n"
   ]
  },
  {
   "cell_type": "code",
   "execution_count": 11,
   "metadata": {},
   "outputs": [
    {
     "name": "stdout",
     "output_type": "stream",
     "text": [
      "Total Balance: 1200\n",
      "Total Balance: 600\n",
      "Total Balance: 1150\n",
      "Withdrew 300. New balance: 300\n",
      "Total Balance: 300\n",
      "Interest added: 23.0. New balance: 1173.0\n",
      "Total Balance: 1173.0\n"
     ]
    }
   ],
   "source": [
    "if __name__ == '__main__':\n",
    "    savings_account = SavingsAccount(account_number=123, account_holder='ravi', balance=1000)\n",
    "    checking_account = CheckingAccount(account_number=456, account_holder='saket', balance=500, overdraft_limit=200)\n",
    "\n",
    "    # Deposit and display balance for both accounts\n",
    "    savings_account.deposit(200)\n",
    "    savings_account.display_balance()\n",
    "\n",
    "    checking_account.deposit(100)\n",
    "    checking_account.display_balance()\n",
    "\n",
    "    # Withdraw and display balance for both accounts\n",
    "    savings_account.withdraw(50)\n",
    "    savings_account.display_balance()\n",
    "\n",
    "    checking_account.withdraw(300)\n",
    "    checking_account.display_balance()\n",
    "\n",
    "    # Add interest to the savings account\n",
    "    savings_account.add_interest()\n",
    "    savings_account.display_balance()"
   ]
  }
 ],
 "metadata": {
  "kernelspec": {
   "display_name": "Python 3",
   "language": "python",
   "name": "python3"
  },
  "language_info": {
   "codemirror_mode": {
    "name": "ipython",
    "version": 3
   },
   "file_extension": ".py",
   "mimetype": "text/x-python",
   "name": "python",
   "nbconvert_exporter": "python",
   "pygments_lexer": "ipython3",
   "version": "3.12.1"
  }
 },
 "nbformat": 4,
 "nbformat_minor": 2
}
