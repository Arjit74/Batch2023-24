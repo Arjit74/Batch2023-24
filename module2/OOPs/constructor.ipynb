{
 "cells": [
  {
   "cell_type": "code",
   "execution_count": 2,
   "metadata": {},
   "outputs": [
    {
     "name": "stdout",
     "output_type": "stream",
     "text": [
      "Name :  John\n",
      "Age :  30\n",
      "Salary :  30000\n",
      "-------------\n",
      "Name :  Mike\n",
      "Age :  40\n",
      "Salary :  40000\n",
      "-------------\n",
      "Name :  NA\n",
      "Age :  0\n",
      "Salary :  0\n"
     ]
    }
   ],
   "source": [
    "# contructor and destructor\n",
    "# what is constructor?\n",
    "# constructor is a special method which is used to initialize the members of the class\n",
    "\n",
    "class Employee:\n",
    "    def __init__(self):\n",
    "        self.name = \"NA\"\n",
    "        self.age = 0\n",
    "        self.salary = 0\n",
    "    def setDetails(self,name,age,salary):\n",
    "        self.name = name\n",
    "        self.age = age\n",
    "        self.salary = salary\n",
    "    def getDetails(self):\n",
    "        print(\"Name : \",self.name)\n",
    "        print(\"Age : \",self.age)\n",
    "        print(\"Salary : \",self.salary)\n",
    "\n",
    "\n",
    "# main driven code\n",
    "emp1 = Employee()\n",
    "emp2 = Employee()\n",
    "emp3 = Employee()\n",
    "emp1.setDetails(\"John\",30,30000)\n",
    "emp2.setDetails(\"Mike\",40,40000)\n",
    "emp1.getDetails()\n",
    "print(\"-------------\")\n",
    "emp2.getDetails()\n",
    "print(\"-------------\")\n",
    "emp3.getDetails()  # use the default info as we have not set any values for emp3"
   ]
  },
  {
   "cell_type": "code",
   "execution_count": 3,
   "metadata": {},
   "outputs": [
    {
     "name": "stdout",
     "output_type": "stream",
     "text": [
      "Name :  John\n",
      "Age :  30\n",
      "Salary :  30000\n",
      "destructor called John object deleted\n",
      "-------------\n",
      "Name :  Mike\n",
      "Age :  40\n",
      "Salary :  40000\n",
      "-------------\n",
      "destructor called Mike object deleted\n",
      "Name :  John\n",
      "Age :  30\n",
      "Salary :  0\n",
      "-------------\n",
      "Name :  Mike\n",
      "Age :  40\n",
      "Salary :  0\n",
      "-------------\n"
     ]
    }
   ],
   "source": [
    "# what is destructor?\n",
    "# destructor is a special method which is used to delete the members of the class\n",
    "\n",
    "class Employee:\n",
    "    def __init__(self):\n",
    "        self.name = \"NA\"\n",
    "        self.age = 0\n",
    "        self.salary = 0\n",
    "    def setDetails(self,name,age,salary):\n",
    "        self.name = name\n",
    "        self.age = age\n",
    "        self.salary = salary\n",
    "    def getDetails(self):\n",
    "        print(\"Name : \",self.name)\n",
    "        print(\"Age : \",self.age)\n",
    "        print(\"Salary : \",self.salary)\n",
    "    def __del__(self):\n",
    "        print(f\"destructor called {self.name} object deleted\")\n",
    "\n",
    "# main driven code\n",
    "emp1 = Employee()\n",
    "emp2 = Employee()\n",
    "emp1.setDetails(\"John\",30,30000)\n",
    "emp2.setDetails(\"Mike\",40,40000)\n",
    "\n",
    "emp1.getDetails()\n",
    "\n",
    "del emp1\n",
    "print(\"-------------\")\n",
    "emp2.getDetails()\n",
    "print(\"-------------\")\n",
    "\n",
    "\n"
   ]
  },
  {
   "cell_type": "code",
   "execution_count": 5,
   "metadata": {},
   "outputs": [
    {
     "ename": "TypeError",
     "evalue": "Employee.__init__() takes 3 positional arguments but 4 were given",
     "output_type": "error",
     "traceback": [
      "\u001b[0;31m---------------------------------------------------------------------------\u001b[0m",
      "\u001b[0;31mTypeError\u001b[0m                                 Traceback (most recent call last)",
      "Cell \u001b[0;32mIn[5], line 19\u001b[0m\n\u001b[1;32m     16\u001b[0m         \u001b[38;5;28mprint\u001b[39m(\u001b[38;5;124m\"\u001b[39m\u001b[38;5;124mSalary : \u001b[39m\u001b[38;5;124m\"\u001b[39m,\u001b[38;5;28mself\u001b[39m\u001b[38;5;241m.\u001b[39msalary)\n\u001b[1;32m     18\u001b[0m \u001b[38;5;66;03m# main driven code\u001b[39;00m\n\u001b[0;32m---> 19\u001b[0m emp1 \u001b[38;5;241m=\u001b[39m \u001b[43mEmployee\u001b[49m\u001b[43m(\u001b[49m\u001b[38;5;124;43m\"\u001b[39;49m\u001b[38;5;124;43mJohn\u001b[39;49m\u001b[38;5;124;43m\"\u001b[39;49m\u001b[43m,\u001b[49m\u001b[38;5;241;43m30\u001b[39;49m\u001b[43m,\u001b[49m\u001b[43m \u001b[49m\u001b[38;5;241;43m30000\u001b[39;49m\u001b[43m)\u001b[49m\n\u001b[1;32m     20\u001b[0m emp2 \u001b[38;5;241m=\u001b[39m Employee(\u001b[38;5;124m\"\u001b[39m\u001b[38;5;124mMike\u001b[39m\u001b[38;5;124m\"\u001b[39m,\u001b[38;5;241m40\u001b[39m, \u001b[38;5;241m10000\u001b[39m)\n\u001b[1;32m     21\u001b[0m emp1\u001b[38;5;241m.\u001b[39mgetDetails()\n",
      "\u001b[0;31mTypeError\u001b[0m: Employee.__init__() takes 3 positional arguments but 4 were given"
     ]
    }
   ],
   "source": [
    "# what is constructor overloading?\n",
    "# constructor overloading is a concept where we can have more than one constructor in a class\n",
    "\n",
    "class Employee:\n",
    "    def __init__(self,name,age,salary):\n",
    "        self.name = name\n",
    "        self.age = age\n",
    "        self.salary = salary\n",
    "    # def __init__(self,name,age):\n",
    "    #     self.name = name\n",
    "    #     self.age = age\n",
    "    #     self.salary = 0\n",
    "    def getDetails(self):\n",
    "        print(\"Name : \",self.name)\n",
    "        print(\"Age : \",self.age)\n",
    "        print(\"Salary : \",self.salary)\n",
    "\n",
    "# main driven code\n",
    "emp1 = Employee(\"John\",30, 30000)\n",
    "emp2 = Employee(\"Mike\",40, 10000)\n",
    "emp1.getDetails()\n",
    "print(\"-------------\")\n",
    "emp2.getDetails()\n",
    "print(\"-------------\")"
   ]
  }
 ],
 "metadata": {
  "kernelspec": {
   "display_name": "Python 3",
   "language": "python",
   "name": "python3"
  },
  "language_info": {
   "codemirror_mode": {
    "name": "ipython",
    "version": 3
   },
   "file_extension": ".py",
   "mimetype": "text/x-python",
   "name": "python",
   "nbconvert_exporter": "python",
   "pygments_lexer": "ipython3",
   "version": "3.12.1"
  }
 },
 "nbformat": 4,
 "nbformat_minor": 2
}
