{
 "cells": [
  {
   "cell_type": "code",
   "execution_count": 1,
   "metadata": {},
   "outputs": [],
   "source": [
    "# import numpy \n",
    "import numpy as np"
   ]
  },
  {
   "cell_type": "code",
   "execution_count": 10,
   "metadata": {},
   "outputs": [
    {
     "name": "stdout",
     "output_type": "stream",
     "text": [
      "[12 30 12 60]\n"
     ]
    }
   ],
   "source": [
    "lst1 = [12, 30, 12, 60]\n",
    "arr1 = np.array(lst1)\n",
    "print(arr1)"
   ]
  },
  {
   "cell_type": "code",
   "execution_count": 15,
   "metadata": {},
   "outputs": [
    {
     "name": "stdout",
     "output_type": "stream",
     "text": [
      "[ 6  2  4 18]\n"
     ]
    }
   ],
   "source": [
    "lst2 = [6, 2, 4, 18]\n",
    "arr2 = np.array(lst2)\n",
    "print(arr2)\n"
   ]
  },
  {
   "cell_type": "code",
   "execution_count": 16,
   "metadata": {},
   "outputs": [
    {
     "data": {
      "text/plain": [
       "array([18, 32, 16, 78])"
      ]
     },
     "execution_count": 16,
     "metadata": {},
     "output_type": "execute_result"
    }
   ],
   "source": [
    "arr1 + arr2"
   ]
  },
  {
   "cell_type": "code",
   "execution_count": null,
   "metadata": {},
   "outputs": [],
   "source": [
    "# list (array )\n",
    "# 1-D Array \n",
    "# 2-D Array \n"
   ]
  },
  {
   "cell_type": "code",
   "execution_count": 5,
   "metadata": {},
   "outputs": [
    {
     "data": {
      "text/plain": [
       "[1]"
      ]
     },
     "execution_count": 5,
     "metadata": {},
     "output_type": "execute_result"
    }
   ],
   "source": [
    "# covert 1d array (list) to matrix (2-d array ) \n",
    "lst = [1, 3, 5, 6, 7, 2]\n",
    "row, column = 2, 3\n",
    "\n",
    "'''\n",
    "input\n",
    "2 3 4 5 6 1\n",
    "2 3\n",
    "\n",
    "output\n",
    "2 3 4\n",
    "5 6 7\n",
    "'''\n",
    "\n",
    "# output\n",
    "'''\n",
    "[[1, 3, 5],\n",
    " [6, 7, 2]]\n",
    "'''"
   ]
  },
  {
   "cell_type": "code",
   "execution_count": 37,
   "metadata": {},
   "outputs": [
    {
     "name": "stdout",
     "output_type": "stream",
     "text": [
      "2 3 4\n",
      "6 7 3\n"
     ]
    }
   ],
   "source": [
    "class designMatrix:\n",
    "    def __init__(self,lst):\n",
    "        self.lst=lst\n",
    "        \n",
    "    def validity(self,m,n):\n",
    "        return len(self.lst) == m*n\n",
    "    \n",
    "    def create_matrix(self, m, n):\n",
    "        count = 0\n",
    "        matrix = []\n",
    "        tmp = []\n",
    "        for i in self.lst:\n",
    "            tmp.append(i)\n",
    "            count += 1\n",
    "            if count == n:\n",
    "                matrix.append(tmp)\n",
    "                tmp = []\n",
    "                count = 0\n",
    "        self.matrix = matrix\n",
    "    def disp_matrix(self):\n",
    "        for i in self.matrix:\n",
    "            print(*i)\n",
    "\n",
    "# st = list(map(int,input().split()))  # \n",
    "lst = [2, 3, 4,  6, 7, 3]\n",
    "# m, n = input().split() # 2 3\n",
    "m, n = 2, 3\n",
    "\n",
    "mat = designMatrix(lst)\n",
    "if mat.validity(m, n):\n",
    "    mat.create_matrix(m, n)\n",
    "    mat.disp_matrix()\n",
    "else:\n",
    "    print('Invalid Dimensions')\n"
   ]
  },
  {
   "cell_type": "code",
   "execution_count": 35,
   "metadata": {},
   "outputs": [
    {
     "name": "stdout",
     "output_type": "stream",
     "text": [
      "2 4 5\n"
     ]
    }
   ],
   "source": [
    "x = [2, 4, 5]\n",
    "print(*x)"
   ]
  },
  {
   "cell_type": "code",
   "execution_count": null,
   "metadata": {},
   "outputs": [],
   "source": [
    "'''\n",
    "3 2\n",
    "23 4 34 5 2 5 7\n",
    "\n",
    "\n",
    "False\n",
    "'''"
   ]
  }
 ],
 "metadata": {
  "kernelspec": {
   "display_name": "base",
   "language": "python",
   "name": "python3"
  },
  "language_info": {
   "codemirror_mode": {
    "name": "ipython",
    "version": 3
   },
   "file_extension": ".py",
   "mimetype": "text/x-python",
   "name": "python",
   "nbconvert_exporter": "python",
   "pygments_lexer": "ipython3",
   "version": "3.11.5"
  }
 },
 "nbformat": 4,
 "nbformat_minor": 2
}
