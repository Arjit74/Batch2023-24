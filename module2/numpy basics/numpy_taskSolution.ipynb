{
 "cells": [
  {
   "cell_type": "code",
   "execution_count": 8,
   "metadata": {},
   "outputs": [
    {
     "name": "stdout",
     "output_type": "stream",
     "text": [
      "[ 1.   3.   4.  -5.   0.5]\n",
      "[ 0.5 -5.   4.   3.   1. ]\n"
     ]
    }
   ],
   "source": [
    "# Task 1 Solution\n",
    "import numpy as np\n",
    "inp = list(map(eval, input().split()))\n",
    "arr = np.array(inp, dtype=float)\n",
    "print(arr)\n",
    "print(np.flip(arr))\n"
   ]
  },
  {
   "cell_type": "code",
   "execution_count": 10,
   "metadata": {},
   "outputs": [
    {
     "name": "stdout",
     "output_type": "stream",
     "text": [
      "[[4 5 6]\n",
      " [7 7 8]\n",
      " [2 3 4]]\n"
     ]
    }
   ],
   "source": [
    "#task 2 sol\n",
    "inp = list(map(eval, input().split()))\n",
    "arr = np.array(inp)\n",
    "# arr = arr.reshape(3,3)\n",
    "arr.shape = 3, 3\n",
    "print(arr)"
   ]
  },
  {
   "cell_type": "code",
   "execution_count": 11,
   "metadata": {},
   "outputs": [
    {
     "name": "stdout",
     "output_type": "stream",
     "text": [
      "[[1. 0. 0.]\n",
      " [0. 1. 0.]\n",
      " [0. 0. 1.]]\n"
     ]
    }
   ],
   "source": [
    "# task 3 Solution \n",
    "n,m=list(map(int,input().split()))\n",
    "print(np.eye(n,m))"
   ]
  },
  {
   "cell_type": "code",
   "execution_count": null,
   "metadata": {},
   "outputs": [],
   "source": [
    "# task 4 Solution \n",
    "import numpy as np\n",
    "N, M = list(map(eval, input().split()))\n",
    "arr1 = []\n",
    "for _ in range(N):\n",
    "    arr1.append(list(map(eval, input().split())))\n",
    "arr2 = []\n",
    "for _ in range(N):\n",
    "    arr2.append(list(map(eval, input().split())))\n",
    "\n",
    "arr1 = np.array(arr1)\n",
    "arr2 = np.array(arr2)\n",
    "\n",
    "print(np.add(arr1, arr2))\n"
   ]
  },
  {
   "cell_type": "code",
   "execution_count": 1,
   "metadata": {},
   "outputs": [
    {
     "name": "stdout",
     "output_type": "stream",
     "text": [
      "[ 3.  5.  8.  2. -4.]\n",
      "[-4.  2.  8.  5.  3.]\n"
     ]
    }
   ],
   "source": [
    "# task 1\n",
    "import numpy as np\n",
    "lst = list(map(eval, input().split()))\n",
    "\n",
    "arr = np.array(lst, dtype=float)\n",
    "\n",
    "# print(arr)\n",
    "print(np.flip(arr))"
   ]
  },
  {
   "cell_type": "code",
   "execution_count": 2,
   "metadata": {},
   "outputs": [
    {
     "name": "stdout",
     "output_type": "stream",
     "text": [
      "[[3 4 6]\n",
      " [2 3 4]\n",
      " [5 6 8]]\n"
     ]
    }
   ],
   "source": [
    "# task 2\n",
    "import numpy as np\n",
    "lst = list(map(eval, input().split()))\n",
    "\n",
    "arr = np.array(lst).reshape((3, 3))\n",
    "print(arr)"
   ]
  }
 ],
 "metadata": {
  "kernelspec": {
   "display_name": "base",
   "language": "python",
   "name": "python3"
  },
  "language_info": {
   "codemirror_mode": {
    "name": "ipython",
    "version": 3
   },
   "file_extension": ".py",
   "mimetype": "text/x-python",
   "name": "python",
   "nbconvert_exporter": "python",
   "pygments_lexer": "ipython3",
   "version": "3.11.5"
  }
 },
 "nbformat": 4,
 "nbformat_minor": 2
}
