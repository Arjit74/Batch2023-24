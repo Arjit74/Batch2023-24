{
 "cells": [
  {
   "cell_type": "code",
   "metadata": {},
   "execution_count": 1,
   "source": [
    "# NumPy Creating Arrays\n",
    "# NumPy Array Indexing\n",
    "# NumPy Array Slicing"
   ]
  },
  {
   "cell_type": "code",
   "metadata": {},
   "execution_count": 2,
   "source": [
    "!pip install numpy\n",
    "import numpy"
   ]
  },
  {
   "cell_type": "code",
   "metadata": {},
   "execution_count": 3,
   "source": [
    "print(numpy.__version__)"
   ]
  },
  {
   "cell_type": "code",
   "metadata": {},
   "execution_count": 4,
   "source": [
    "list = [1,2,3,4,5,6]\n",
    "print(type(list))"
   ]
  },
  {
   "cell_type": "code",
   "metadata": {},
   "execution_count": 5,
   "source": [
    "import numpy\n",
    "\n",
    "arr = numpy.array(list)\n",
    "print(arr)\n",
    "print(type(arr))"
   ]
  },
  {
   "cell_type": "code",
   "metadata": {},
   "execution_count": 6,
   "source": [
    "import numpy as np #np is an alias name for numpy\n",
    "\n",
    "arr = np.array(list)\n",
    "print(arr)\n",
    "print(type(arr))"
   ]
  },
  {
   "cell_type": "code",
   "metadata": {},
   "execution_count": 7,
   "source": [
    "#version\n",
    "print(np.__version__)"
   ]
  },
  {
   "cell_type": "code",
   "metadata": {},
   "execution_count": 8,
   "source": [
    "# Create a NumPy ndarray Object\n",
    "# The array object in NumPy is called ndarray.\n",
    "\n",
    "arr = np.array([1, 2, 3, 4, 5])\n",
    "\n",
    "print(arr)\n",
    "print(type(arr))"
   ]
  },
  {
   "cell_type": "code",
   "metadata": {},
   "execution_count": 9,
   "source": [
    "obj = (1, 2, 3, 4, 5)\n",
    "print(type(obj))\n",
    "print(obj)\n",
    "arr = np.array(obj)\n",
    "print(arr)\n",
    "print(type(arr))"
   ]
  },
  {
   "cell_type": "code",
   "metadata": {},
   "execution_count": 10,
   "source": [
    "obj = {\"CA\": 8, \"CB\": 10}\n",
    "print(type(obj))\n",
    "\n",
    "arr = np.array(obj)\n",
    "print(arr)\n",
    "print(type(arr))"
   ]
  },
  {
   "cell_type": "code",
   "metadata": {},
   "execution_count": 11,
   "source": [
    "numlist = [  [ [5,6,7],[4,3,6,8] ] , [[5,6,7]], [[5,6,7],[4,3],[6,8]] ]\n",
    "print(len(numlist))\n",
    "print(len(numlist[0]))\n",
    "print(len(numlist[1]))\n",
    "print(len(numlist[2]))\n",
    "print(len(numlist[2][1]))"
   ]
  },
  {
   "cell_type": "code",
   "metadata": {},
   "execution_count": 12,
   "source": [
    "arr = np.array([\"Rohan\", \"Riya\"])\n",
    "print(arr)\n",
    "print(type(arr))\n",
    "print(arr.ndim)"
   ]
  },
  {
   "cell_type": "code",
   "metadata": {},
   "execution_count": 13,
   "source": [
    "arr = np.array(67)\n",
    "print(arr)\n",
    "print(type(arr))\n",
    "print(arr.ndim)"
   ]
  },
  {
   "cell_type": "code",
   "metadata": {},
   "execution_count": 14,
   "source": [
    "aarr = np.array(23)\n",
    "print(aarr)\n",
    "print(\"Dimension of aarr = \",aarr.ndim)"
   ]
  },
  {
   "cell_type": "code",
   "metadata": {},
   "execution_count": 15,
   "source": [
    "aaarr = np.array([1, 2, 3,4, 5, 6])\n",
    "\n",
    "print(aaarr)\n",
    "print(\"Dimension of aaarr = \",aaarr.ndim)"
   ]
  },
  {
   "cell_type": "code",
   "metadata": {},
   "execution_count": 16,
   "source": [
    "barr = np.array([[1, 2, 3], [4, 5, 6]])\n",
    "\n",
    "print(barr)\n",
    "print(\"Dimension of barr = \",barr.ndim)"
   ]
  },
  {
   "cell_type": "code",
   "metadata": {},
   "execution_count": 17,
   "source": [
    "list = [1,2,\"Rahul\"]\n",
    "print(list)"
   ]
  },
  {
   "cell_type": "code",
   "metadata": {},
   "execution_count": 18,
   "source": [
    "arr = np.array(456)\n",
    "print(arr)\n",
    "print(type(arr))\n",
    "print(arr.ndim)"
   ]
  },
  {
   "cell_type": "code",
   "metadata": {},
   "execution_count": 19,
   "source": [
    "carr = np.array([\n",
    "               [ [1,2] ],\n",
    "               [ [1,2,9] ] , \n",
    "               [ [1,2] ]\n",
    "            ])\n",
    "\n",
    "print(carr)\n",
    "print(\"Dimension of carr = \",carr.ndim)\n",
    "print(carr.shape)"
   ]
  },
  {
   "cell_type": "code",
   "metadata": {},
   "execution_count": 20,
   "source": [
    "var = (a*a for a in range(8))\n",
    "print(var)\n",
    "numlist = list(var)\n",
    "print(type(numlist))\n",
    "print(numlist)"
   ]
  },
  {
   "cell_type": "code",
   "metadata": {},
   "execution_count": 21,
   "source": [
    "carr1 = np.array([\n",
    "               [ [1,2,3],[4,5,6],[7,8,9] ],\n",
    "               [ [1,2,3],[4,5,6],[7,8,9] ],\n",
    "               [ [1,2,3],[4,5,6],[7,8,9] ],\n",
    "            ])\n",
    "\n",
    "print(carr1[0][1][2]) #1st 2-D, 2nd row, 3rd element\n",
    "print(carr1[0,1,2])\n",
    "print(carr1)\n",
    "print(\"Dimension of carr1 = \",carr1.ndim)\n",
    "print(carr1.shape)"
   ]
  },
  {
   "cell_type": "code",
   "metadata": {},
   "execution_count": 22,
   "source": [
    "print(aarr.ndim)\n",
    "print(barr.ndim)\n",
    "print(carr.ndim)"
   ]
  },
  {
   "cell_type": "code",
   "metadata": {},
   "execution_count": 23,
   "source": [
    "narr = np.array([1, 2, 3, 4], ndmin=5)\n",
    " \n",
    "print(narr)\n",
    "print('number of dimensions :', narr.ndim)\n",
    "\n",
    "print(narr[0]) # 4-d\n",
    "print(narr[0,0]) # 3-d\n",
    "print(narr[0,0,0]) # 2-d\n",
    "print(narr[0,0,0,0]) # 1-d\n",
    "print(narr[0,0,0,0,1]) #2nd element from above 1-d array"
   ]
  },
  {
   "cell_type": "code",
   "metadata": {},
   "execution_count": 24,
   "source": [
    "# Higher Dimensional Arrays\n",
    "narr = np.array([1, 2, 3, 4], ndmin=5)\n",
    "print(narr)\n",
    "print(narr[0])\n",
    "print('number of dimensions :', narr.ndim)\n",
    "print(narr[0,0,0])"
   ]
  },
  {
   "cell_type": "code",
   "metadata": {},
   "execution_count": 25,
   "source": [
    "# NumPy Array Indexing\n",
    "# Access Array Elements\n",
    "print(barr, end = \"\\n\\n\")\n",
    "print(barr[0])"
   ]
  },
  {
   "cell_type": "code",
   "metadata": {},
   "execution_count": 26,
   "source": [
    "# Access 2-D Arrays\n",
    "print('2nd element on 2nd row: ',barr[1,1])"
   ]
  },
  {
   "cell_type": "code",
   "metadata": {},
   "execution_count": 27,
   "source": [
    "# Access 3-D Arrays\n",
    "darr = np.array([[[1, 2, 3], [4, 5, 6]], [[7, 8, 9], [10, 11, 12]]])\n",
    "print(\"Dimenson of the array: \",darr.ndim)\n",
    "print('3rd element on 2nd row in first 2D Array: ',arr[0, 1, 2])"
   ]
  },
  {
   "cell_type": "code",
   "metadata": {},
   "execution_count": 28,
   "source": [
    "# Negative Indexing\n",
    "arr = np.array([\n",
    "                [1,2,3,4,5], \n",
    "                [6,7,8,9,10]\n",
    "              ])\n",
    "\n",
    "print('2nd Last element from 2nd dim: ', arr[1, -2])\n",
    "print('2nd Last element from 2nd dim: ', arr[-1, -2])\n",
    "\n",
    "print('2nd Last element from 1st dim: ', arr[0, -2])\n",
    "print('2nd Last element from 1st dim: ', arr[-2, -2])"
   ]
  },
  {
   "cell_type": "code",
   "metadata": {},
   "execution_count": 29,
   "source": [
    "# NumPy Array Slicing\n",
    "# taking elements from one given index to another given index.\n",
    "# [start:end] or [start:end:step].\n",
    "arr = np.array([15, 32, 23, 24, 55,76, 87])\n",
    "\n",
    "print(arr)\n",
    "print(arr[0:len(arr):1])\n",
    "\n",
    "print(arr[1:5])\n",
    "print(arr[1:5:1])\n",
    "\n",
    "print(arr[1:5:2])\n",
    "\n",
    "print(arr[:5])\n",
    "print(arr[1:])\n",
    "print(arr[::2])\n",
    "print(arr[1::2])"
   ]
  },
  {
   "cell_type": "code",
   "metadata": {},
   "execution_count": 30,
   "source": [
    "# Negative Slicing\n",
    "print(arr)\n",
    "print(arr[-3:-1])"
   ]
  },
  {
   "cell_type": "code",
   "metadata": {},
   "execution_count": 31,
   "source": [
    "# Step\n",
    "print(arr[1:5:2])\n",
    "print(arr[::2])"
   ]
  },
  {
   "cell_type": "code",
   "metadata": {},
   "execution_count": 32,
   "source": [
    "# Slicing 2-D Arrays\n",
    "arr = np.array([[1, 2, 3, 4, 5], [6, 7, 8, 9, 10]])\n",
    "\n",
    "print(arr[1, 1:4])"
   ]
  },
  {
   "cell_type": "code",
   "metadata": {},
   "execution_count": 33,
   "source": [
    "# Datatypes in NumPy\n",
    "arr = np.array([1, 2, 3, 4])\n",
    "print(arr.dtype)"
   ]
  },
  {
   "cell_type": "code",
   "metadata": {},
   "execution_count": 34,
   "source": [
    "arr = np.array(['apple', 'banana', 'cherry'])\n",
    "print(arr.dtype)"
   ]
  },
  {
   "cell_type": "code",
   "metadata": {},
   "execution_count": 35,
   "source": [
    "arr = np.array([1, 2, 3, 4], dtype='S')\n",
    "print(arr)\n",
    "print(arr.dtype)"
   ]
  },
  {
   "cell_type": "code",
   "metadata": {},
   "execution_count": 36,
   "source": [
    "arr = np.array([1, 2, 3, 4], dtype='i4')\n",
    "print(arr)\n",
    "print(arr.dtype)"
   ]
  },
  {
   "cell_type": "code",
   "metadata": {},
   "execution_count": 37,
   "source": [
    "# Copy vs View\n",
    "arr = np.array([1, 2, 3, 4, 5])\n",
    "x = arr.copy()\n",
    "arr[0] = 42\n",
    "\n",
    "print(arr)\n",
    "print(x)"
   ]
  },
  {
   "cell_type": "code",
   "metadata": {},
   "execution_count": 38,
   "source": [
    "arr = np.array([1, 2, 3, 4, 5])\n",
    "x = arr.view()\n",
    "arr[0] = 42\n",
    "\n",
    "print(arr)\n",
    "print(x)"
   ]
  },
  {
   "cell_type": "code",
   "metadata": {},
   "execution_count": 39,
   "source": [
    "arr = np.array([1, 2, 3, 4, 5])\n",
    "x = arr.copy()\n",
    "y = arr.view()\n",
    "\n",
    "print(x.base)\n",
    "print(y.base)"
   ]
  },
  {
   "cell_type": "code",
   "metadata": {},
   "execution_count": 40,
   "source": [
    "# Shape of an Array\n",
    "arr = np.array([[1, 2, 3, 4], [5, 6, 7, 8]])\n",
    "\n",
    "print(arr.shape)"
   ]
  },
  {
   "cell_type": "code",
   "metadata": {},
   "execution_count": 41,
   "source": [
    "# Reshaping Arrays\n",
    "arr = np.array([1, 2, 3, 4, 5, 6, 7, 8, 9, 10, 11, 12])\n",
    "\n",
    "newarr = arr.reshape(4, 3)\n",
    "\n",
    "print(newarr)"
   ]
  },
  {
   "cell_type": "code",
   "metadata": {},
   "execution_count": 42,
   "source": [
    "arr = np.array([1, 2, 3, 4, 5, 6, 7, 8])\n",
    "\n",
    "print(arr.reshape(2, 4).base)"
   ]
  },
  {
   "cell_type": "code",
   "metadata": {},
   "execution_count": 43,
   "source": [
    "# Flattening the arrays\n",
    "arr = np.array([[1, 2, 3], [4, 5, 6]])\n",
    "\n",
    "newarr = arr.reshape(-1)\n",
    "\n",
    "print(newarr)"
   ]
  },
  {
   "cell_type": "code",
   "metadata": {},
   "execution_count": 44,
   "source": [
    "# Iterating Arrays\n",
    "arr = np.array([1, 2, 3])\n",
    "\n",
    "for x in arr:\n",
    "  print(x)"
   ]
  },
  {
   "cell_type": "code",
   "metadata": {},
   "execution_count": 45,
   "source": [
    "arr = np.array([[1, 2, 3], [4, 5, 6]])\n",
    "\n",
    "for x in arr:\n",
    "  print(x)"
   ]
  },
  {
   "cell_type": "code",
   "metadata": {},
   "execution_count": 46,
   "source": [
    "arr = np.array([[1, 2, 3], [4, 5, 6]])\n",
    "\n",
    "for x in arr:\n",
    "  for y in x:\n",
    "    print(y)"
   ]
  },
  {
   "cell_type": "code",
   "metadata": {},
   "execution_count": 47,
   "source": [
    "arr = np.array([[[1, 2, 3], [4, 5, 6]], [[7, 8, 9], [10, 11, 12]]])\n",
    "\n",
    "for x in arr:\n",
    "  print(x)"
   ]
  },
  {
   "cell_type": "code",
   "metadata": {},
   "execution_count": 48,
   "source": [
    "# nditer()\n",
    "arr = np.array([[1, 2, 3], [4, 5, 6]])\n",
    "\n",
    "for x in np.nditer(arr):\n",
    "  print(x)"
   ]
  },
  {
   "cell_type": "code",
   "metadata": {},
   "execution_count": 49,
   "source": [
    "arr = np.array([[[1, 2], [3, 4]], [[5, 6], [7, 8]]])\n",
    "\n",
    "for x in np.nditer(arr):\n",
    "  print(x)"
   ]
  },
  {
   "cell_type": "code",
   "metadata": {},
   "execution_count": 50,
   "source": [
    "# Iterating With Different Step Size\n",
    "arr = np.array([[1, 2, 3, 4], [5, 6, 7, 8]])\n",
    "\n",
    "for x in np.nditer(arr[:, ::2]):\n",
    "  print(x)"
   ]
  },
  {
   "cell_type": "code",
   "metadata": {},
   "execution_count": 51,
   "source": [
    "# Enumerated Iteration Using ndenumerate()\n",
    "arr = np.array([1, 2, 3])\n",
    "\n",
    "for idx, x in np.ndenumerate(arr):\n",
    "  print(idx, x)"
   ]
  },
  {
   "cell_type": "code",
   "metadata": {},
   "execution_count": 52,
   "source": [
    "arr = np.array([[1, 2, 3, 4], [5, 6, 7, 8]])\n",
    "\n",
    "for idx, x in np.ndenumerate(arr):\n",
    "  print(idx, x)"
   ]
  },
  {
   "cell_type": "code",
   "metadata": {},
   "execution_count": 53,
   "source": [
    "# Joining NumPy Arrays\n",
    "arr1 = np.array([1, 2, 3])\n",
    "arr2 = np.array([4, 5, 6])\n",
    "\n",
    "arr = np.concatenate((arr1, arr2))\n",
    "\n",
    "print(arr)"
   ]
  },
  {
   "cell_type": "code",
   "metadata": {},
   "execution_count": 54,
   "source": [
    "arr1 = np.array([[1, 2], [3, 4]])\n",
    "arr2 = np.array([[5, 6], [7, 8]])\n",
    "\n",
    "arr = np.concatenate((arr1, arr2), axis=1)\n",
    "\n",
    "print(arr)"
   ]
  },
  {
   "cell_type": "code",
   "metadata": {},
   "execution_count": 55,
   "source": [
    "# Joining Arrays Using Stack Functions\n",
    "arr1 = np.array([1, 2, 3])\n",
    "arr2 = np.array([4, 5, 6])\n",
    "\n",
    "arr = np.stack((arr1, arr2), axis=1)\n",
    "\n",
    "print(arr)"
   ]
  },
  {
   "cell_type": "code",
   "metadata": {},
   "execution_count": 56,
   "source": [
    "arr1 = np.array([1, 2, 3])\n",
    "arr2 = np.array([4, 5, 6])\n",
    "\n",
    "arr = np.hstack((arr1, arr2))\n",
    "\n",
    "print(arr)"
   ]
  },
  {
   "cell_type": "code",
   "metadata": {},
   "execution_count": 57,
   "source": [
    "arr1 = np.array([1, 2, 3])\n",
    "arr2 = np.array([4, 5, 6])\n",
    "\n",
    "arr = np.vstack((arr1, arr2))\n",
    "\n",
    "print(arr)"
   ]
  },
  {
   "cell_type": "code",
   "metadata": {},
   "execution_count": 58,
   "source": [
    "arr1 = np.array([1, 2, 3])\n",
    "arr2 = np.array([4, 5, 6])\n",
    "\n",
    "arr = np.dstack((arr1, arr2))\n",
    "\n",
    "print(arr)"
   ]
  },
  {
   "cell_type": "code",
   "metadata": {},
   "execution_count": 59,
   "source": [
    "# Splitting NumPy Arrays\n",
    "arr = np.array([1, 2, 3, 4, 5, 6])\n",
    "\n",
    "newarr = np.array_split(arr, 3)\n",
    "\n",
    "print(newarr)"
   ]
  },
  {
   "cell_type": "code",
   "metadata": {},
   "execution_count": 60,
   "source": [
    "arr = np.array([1, 2, 3, 4, 5, 6])\n",
    "\n",
    "newarr = np.array_split(arr, 4)\n",
    "\n",
    "print(newarr)"
   ]
  },
  {
   "cell_type": "code",
   "metadata": {},
   "execution_count": 61,
   "source": [
    "arr = np.array([1, 2, 3, 4, 5, 6])\n",
    "\n",
    "newarr = np.array_split(arr, 7)\n",
    "\n",
    "print(newarr)"
   ]
  },
  {
   "cell_type": "code",
   "metadata": {},
   "execution_count": 62,
   "source": [
    "arr = np.array([1, 2, 3, 4, 5, 6])\n",
    "\n",
    "newarr = np.array_split(arr, 3)\n",
    "\n",
    "print(newarr[0])\n",
    "print(newarr[1])\n",
    "print(newarr[2])"
   ]
  },
  {
   "cell_type": "code",
   "metadata": {},
   "execution_count": 63,
   "source": [
    "arr = np.array([[1, 2], [3, 4], [5, 6], [7, 8], [9, 10], [11, 12]])\n",
    "\n",
    "newarr = np.array_split(arr, 3)\n",
    "\n",
    "print(newarr)"
   ]
  },
  {
   "cell_type": "code",
   "metadata": {},
   "execution_count": 64,
   "source": [
    "arr = np.array([[1, 2, 3], [4, 5, 6], [7, 8, 9], [10, 11, 12], [13, 14, 15], [16, 17, 18]])\n",
    "\n",
    "newarr = np.array_split(arr, 3, axis=1)\n",
    "\n",
    "print(newarr)"
   ]
  },
  {
   "cell_type": "code",
   "metadata": {},
   "execution_count": 65,
   "source": [
    "# Searching Arrays\n",
    "arr = np.array([1, 2, 3, 4, 5, 4, 4])\n",
    "\n",
    "x = np.where(arr == 4)\n",
    "\n",
    "print(x)"
   ]
  },
  {
   "cell_type": "code",
   "metadata": {},
   "execution_count": 66,
   "source": [
    "# Find the indexes where the values are even:\n",
    "arr = np.array([1, 2, 3, 4, 5, 6, 7, 8])\n",
    "\n",
    "x = np.where(arr%2 == 0)\n",
    "\n",
    "print(x)"
   ]
  },
  {
   "cell_type": "code",
   "metadata": {},
   "execution_count": 67,
   "source": [
    "# Search Sorted\n",
    "arr = np.array([6, 7, 8, 9])\n",
    "\n",
    "x = np.searchsorted(arr, 7)\n",
    "\n",
    "print(x)"
   ]
  },
  {
   "cell_type": "code",
   "metadata": {},
   "execution_count": 68,
   "source": [
    "# Search From the Right Side\n",
    "arr = np.array([6, 7, 8, 9])\n",
    "\n",
    "x = np.searchsorted(arr, 7, side='right')\n",
    "\n",
    "print(x)"
   ]
  },
  {
   "cell_type": "code",
   "metadata": {},
   "execution_count": 69,
   "source": [
    "# Multiple Values\n",
    "arr = np.array([1, 3, 5, 7])\n",
    "\n",
    "x = np.searchsorted(arr, [2, 4, 6])\n",
    "\n",
    "print(x)"
   ]
  },
  {
   "cell_type": "code",
   "metadata": {},
   "execution_count": 70,
   "source": [
    "# Sorting Arrays\n",
    "arr = np.array([3, 2, 0, 1])\n",
    "\n",
    "print(np.sort(arr))"
   ]
  },
  {
   "cell_type": "code",
   "metadata": {},
   "execution_count": 71,
   "source": [
    "arr = np.array(['banana', 'cherry', 'apple'])\n",
    "\n",
    "print(np.sort(arr))"
   ]
  },
  {
   "cell_type": "code",
   "metadata": {},
   "execution_count": 72,
   "source": [
    "arr = np.array([True, False, True])\n",
    "\n",
    "print(np.sort(arr))"
   ]
  },
  {
   "cell_type": "code",
   "metadata": {},
   "execution_count": 73,
   "source": [
    "# Sorting a 2-D Array\n",
    "arr = np.array([[3, 2, 4], [5, 0, 1]])\n",
    "\n",
    "print(np.sort(arr))"
   ]
  },
  {
   "cell_type": "code",
   "metadata": {},
   "execution_count": 74,
   "source": [
    "# Filter Array\n",
    "arr = np.array([41, 42, 43, 44])\n",
    "\n",
    "x = [True, False, True, False]\n",
    "\n",
    "newarr = arr[x]\n",
    "\n",
    "print(newarr)"
   ]
  },
  {
   "cell_type": "code",
   "metadata": {},
   "execution_count": 75,
   "source": [
    "arr = np.array([41, 42, 43, 44])\n",
    "\n",
    "filter_arr = []\n",
    "\n",
    "for element in arr:\n",
    "  if element > 42:\n",
    "    filter_arr.append(True)\n",
    "  else:\n",
    "    filter_arr.append(False)\n",
    "\n",
    "newarr = arr[filter_arr]\n",
    "\n",
    "print(filter_arr)\n",
    "print(newarr)"
   ]
  },
  {
   "cell_type": "code",
   "metadata": {},
   "execution_count": 76,
   "source": [
    "# Random Numbers in NumPy\n",
    "# Generate Random Number\n",
    "from numpy import random\n",
    "\n",
    "x = random.randint(100)\n",
    "\n",
    "print(x)"
   ]
  },
  {
   "cell_type": "code",
   "metadata": {},
   "execution_count": 77,
   "source": [
    "# Generate Random Float\n",
    "x = random.rand()\n",
    "\n",
    "print(x)"
   ]
  },
  {
   "cell_type": "code",
   "metadata": {},
   "execution_count": 78,
   "source": [
    "# Generate Random Array\n",
    "x = random.randint(100, size=(5))\n",
    "\n",
    "print(x)"
   ]
  },
  {
   "cell_type": "code",
   "metadata": {},
   "execution_count": 79,
   "source": [
    "# Generate Random 2-D Array\n",
    "x = random.randint(100, size=(3, 5))\n",
    "\n",
    "print(x)"
   ]
  },
  {
   "cell_type": "code",
   "metadata": {},
   "execution_count": 80,
   "source": [
    "# Generating Random Floats\n",
    "x = random.rand(5)\n",
    "\n",
    "print(x)"
   ]
  },
  {
   "cell_type": "code",
   "metadata": {},
   "execution_count": 81,
   "source": [
    "x = random.rand(3, 5)\n",
    "\n",
    "print(x)"
   ]
  },
  {
   "cell_type": "code",
   "metadata": {},
   "execution_count": 82,
   "source": [
    "# Generate Random Number From Array\n",
    "x = random.choice([3, 5, 7, 9])\n",
    "\n",
    "print(x)"
   ]
  },
  {
   "cell_type": "code",
   "metadata": {},
   "execution_count": 83,
   "source": [
    "x = random.choice([3, 5, 7, 9], size=(3, 5))\n",
    "\n",
    "print(x)"
   ]
  },
  {
   "cell_type": "code",
   "metadata": {},
   "execution_count": 84,
   "source": [
    "# Random Data Distribution\n",
    "# Uniform Distribution\n",
    "x = random.uniform(size=(2, 3))\n",
    "\n",
    "print(x)"
   ]
  },
  {
   "cell_type": "code",
   "metadata": {},
   "execution_count": 85,
   "source": [
    "# Normal Distribution\n",
    "x = random.normal(size=(2, 3))\n",
    "\n",
    "print(x)"
   ]
  },
  {
   "cell_type": "code",
   "metadata": {},
   "execution_count": 86,
   "source": [
    "# Binomial Distribution\n",
    "x = random.binomial(n=10, p=0.5, size=10)\n",
    "\n",
    "print(x)"
   ]
  },
  {
   "cell_type": "code",
   "metadata": {},
   "execution_count": 87,
   "source": [
    "# Chi Square Distribution\n",
    "x = random.chisquare(df=2, size=(2, 3))\n",
    "\n",
    "print(x)"
   ]
  },
  {
   "cell_type": "code",
   "metadata": {},
   "execution_count": 88,
   "source": [
    "# Rayleigh Distribution\n",
    "x = random.rayleigh(scale=2, size=(2, 3))\n",
    "\n",
    "print(x)"
   ]
  },
  {
   "cell_type": "code",
   "metadata": {},
   "execution_count": 89,
   "source": [
    "# Pareto Distribution\n",
    "x = random.pareto(a=2, size=(2, 3))\n",
    "\n",
    "print(x)"
   ]
  },
  {
   "cell_type": "code",
   "metadata": {},
   "execution_count": 90,
   "source": [
    "# Zipf Distribution\n",
    "x = random.zipf(a=2, size=(2, 3))\n",
    "\n",
    "print(x)"
   ]
  },
  {
   "cell_type": "code",
   "metadata": {},
   "execution_count": 91,
   "source": [
    "# Multinomial Distribution\n",
    "x = random.multinomial(n=6, pvals=[1/6, 1/6, 1/6, 1/6, 1/6, 1/6])\n",
    "\n",
    "print(x)"
   ]
  },
  {
   "cell_type": "code",
   "metadata": {},
   "execution_count": 92,
   "source": [
    "# Exponential Distribution\n",
    "x = random.exponential(scale=2, size=(2, 3))\n",
    "\n",
    "print(x)"
   ]
  },
  {
   "cell_type": "code",
   "metadata": {},
   "execution_count": 93,
   "source": [
    "# Chi Square Distribution\n",
    "x = random.chisquare(df=2, size=(2, 3))\n",
    "\n",
    "print(x)"
   ]
  },
  {
   "cell_type": "code",
   "metadata": {},
   "execution_count": 94,
   "source": [
    "# Laplace Distribution\n",
    "x = random.laplace(loc=1, scale=2, size=(2, 3))\n",
    "\n",
    "print(x)"
   ]
  },
  {
   "cell_type": "code",
   "metadata": {},
   "execution_count": 95,
   "source": [
    "# Random Permutations\n",
    "arr = np.array([1, 2, 3, 4, 5])\n",
    "\n",
    "random.shuffle(arr)\n",
    "\n",
    "print(arr)"
   ]
  },
  {
   "cell_type": "code",
   "metadata": {},
   "execution_count": 96,
   "source": [
    "arr = np.array([1, 2, 3, 4, 5])\n",
    "\n",
    "print(random.permutation(arr))"
   ]
  }
 ],
 "metadata": {
  "kernelspec": {
   "display_name": "Python 3",
   "language": "python",
   "name": "python3"
  },
  "language_info": {
   "codemirror_mode": {
    "name": "ipython",
    "version": 3
   },
   "file_extension": ".py",
   "mimetype": "text/x-python",
   "name": "python",
   "nbconvert_exporter": "python",
   "pygments_lexer": "ipython3",
   "version": "3.8.5"
  }
 },
 "nbformat": 4,
 "nbformat_minor": 5
}]}]}]}]}]}]}]}]}]}]}]}]}]}]}]}]}]}]}]}]}]}]}]}]}]}]}]}]}]}]}]}]}]}]}]}]}]}]}]}]}]}]}]}]}]}]}]}]}]}]}]}]}]}]}]}]}]}]}]}]}]}]}]}]}]}]}]}]}]}]}]}]}]}]}]}]}]}]}]}]}]}]}]}]}]}]}]}]}]}]}]}]}]}]}]}]}]}]}]}]}
