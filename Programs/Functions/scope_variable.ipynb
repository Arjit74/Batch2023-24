{
 "cells": [
  {
   "cell_type": "code",
   "execution_count": 19,
   "metadata": {},
   "outputs": [
    {
     "name": "stdout",
     "output_type": "stream",
     "text": [
      "10\n",
      "3\n",
      "3\n",
      "4\n"
     ]
    }
   ],
   "source": [
    "# scope of variable : \n",
    "\n",
    "def add():\n",
    "    def fun1():\n",
    "        a = 2\n",
    "    def fun2():\n",
    "        nonlocal a\n",
    "        a = 3\n",
    "    def fun3():\n",
    "        global a\n",
    "        a = 4\n",
    "    a = 10\n",
    "    fun1()\n",
    "    print(a)\n",
    "    fun2()\n",
    "    print(a)\n",
    "    fun3()\n",
    "    print(a)\n",
    "\n",
    "\n",
    "# global scope\n",
    "a = 23\n",
    "add()\n",
    "print(a)\n"
   ]
  },
  {
   "cell_type": "code",
   "execution_count": null,
   "metadata": {},
   "outputs": [],
   "source": [
    "def eligible_names(data):\n",
    "    # logic here "
   ]
  }
 ],
 "metadata": {
  "kernelspec": {
   "display_name": "Python 3",
   "language": "python",
   "name": "python3"
  },
  "language_info": {
   "codemirror_mode": {
    "name": "ipython",
    "version": 3
   },
   "file_extension": ".py",
   "mimetype": "text/x-python",
   "name": "python",
   "nbconvert_exporter": "python",
   "pygments_lexer": "ipython3",
   "version": "3.12.0"
  }
 },
 "nbformat": 4,
 "nbformat_minor": 2
}
