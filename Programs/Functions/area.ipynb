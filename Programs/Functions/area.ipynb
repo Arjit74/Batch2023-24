{
 "cells": [
  {
   "cell_type": "code",
   "execution_count": 1,
   "metadata": {},
   "outputs": [
    {
     "name": "stdout",
     "output_type": "stream",
     "text": [
      "Area of the Rectangle 46\n",
      "Perimeter of the Rectangle 50\n"
     ]
    }
   ],
   "source": [
    "def Area_of_Rect(l, b):\n",
    "    return l * b\n",
    "def Peri_of_Rect(l, b):\n",
    "    return 2 * (l + b)\n",
    "\n",
    "# main code\n",
    "length = int(input('Enter the length '))\n",
    "breadth = int(input('Enter the breadth '))\n",
    "area = Area_of_Rect(length, breadth)\n",
    "perimeter = Peri_of_Rect(length, breadth)\n",
    "print(f'Area of the Rectangle {area}')\n",
    "print(f'Perimeter of the Rectangle {perimeter}')\n"
   ]
  },
  {
   "cell_type": "code",
   "execution_count": 14,
   "metadata": {},
   "outputs": [],
   "source": [
    "def factor_def(ls):\n",
    "    length=2\n",
    "    for i in range(0,n)\n",
    "    if n*\n",
    "    "
   ]
  },
  {
   "cell_type": "code",
   "execution_count": 15,
   "metadata": {},
   "outputs": [
    {
     "name": "stdout",
     "output_type": "stream",
     "text": [
      "None\n"
     ]
    }
   ],
   "source": [
    "out = factor_def([1, 2, 3])\n",
    "print(out)\n",
    "# 6"
   ]
  },
  {
   "cell_type": "code",
   "execution_count": 16,
   "metadata": {},
   "outputs": [
    {
     "name": "stdout",
     "output_type": "stream",
     "text": [
      "10\n"
     ]
    }
   ],
   "source": [
    "def lcm(a, b):\n",
    "    i = 1\n",
    "    while 1:\n",
    "        if i % a == 0 and i % b == 0:\n",
    "            return i\n",
    "        i += 1\n",
    "\n",
    "out = lcm(2, 3)\n",
    "print(out)"
   ]
  },
  {
   "cell_type": "code",
   "execution_count": null,
   "metadata": {},
   "outputs": [],
   "source": [
    "def prime(num):\n",
    "    count=0\n",
    "    for i in range(1,num+1):\n",
    "        if(num%i==0):\n",
    "            count+=1\n",
    "    return count==2\n",
    "\n"
   ]
  }
 ],
 "metadata": {
  "kernelspec": {
   "display_name": "Python 3",
   "language": "python",
   "name": "python3"
  },
  "language_info": {
   "codemirror_mode": {
    "name": "ipython",
    "version": 3
   },
   "file_extension": ".py",
   "mimetype": "text/x-python",
   "name": "python",
   "nbconvert_exporter": "python",
   "pygments_lexer": "ipython3",
   "version": "3.12.0"
  }
 },
 "nbformat": 4,
 "nbformat_minor": 2
}
