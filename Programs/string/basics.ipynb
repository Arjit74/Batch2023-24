{
 "cells": [
  {
   "cell_type": "code",
   "execution_count": null,
   "metadata": {},
   "outputs": [],
   "source": [
    "# string: \n",
    "'''In Python, a string is a sequence of characters enclosed within either single quotes (') or double quotes (\"). \n",
    "Strings are used to represent text data and are one of the fundamental data types in Python. \n",
    "Here are some basic operations and concepts related to strings in Python '''"
   ]
  },
  {
   "cell_type": "code",
   "execution_count": 4,
   "metadata": {},
   "outputs": [
    {
     "name": "stdout",
     "output_type": "stream",
     "text": [
      "hello world <class 'str'> <class 'str'>\n",
      "True\n"
     ]
    }
   ],
   "source": [
    "# string initialization \n",
    "st = 'hello world'\n",
    "st2 = \"hello world\"\n",
    "print(st, type(st), type(st2))\n",
    "print(st == st2)"
   ]
  },
  {
   "cell_type": "code",
   "execution_count": 9,
   "metadata": {},
   "outputs": [
    {
     "name": "stdout",
     "output_type": "stream",
     "text": [
      "hello\n",
      "world\n",
      "python\n",
      "programming\n"
     ]
    }
   ],
   "source": [
    "st = '''hello\n",
    "world\n",
    "python\n",
    "programming'print(st)"
   ]
  },
  {
   "cell_type": "code",
   "execution_count": 16,
   "metadata": {},
   "outputs": [
    {
     "name": "stdout",
     "output_type": "stream",
     "text": [
      "\n",
      "Addition \n",
      "    \"of two\" \n",
      "number \n",
      "\n",
      "\n"
     ]
    }
   ],
   "source": [
    "s = '''\n",
    "Addition \n",
    "    \"of two\" \n",
    "number \n",
    "\n",
    "'''\n",
    "print(s)"
   ]
  },
  {
   "cell_type": "code",
   "execution_count": 22,
   "metadata": {},
   "outputs": [
    {
     "name": "stdout",
     "output_type": "stream",
     "text": [
      "\\n 2\n"
     ]
    }
   ],
   "source": [
    "st = \"\\\\n\"\n",
    "w = len(st)\n",
    "print(st, w)"
   ]
  },
  {
   "cell_type": "code",
   "execution_count": null,
   "metadata": {},
   "outputs": [],
   "source": []
  },
  {
   "cell_type": "code",
   "execution_count": 26,
   "metadata": {},
   "outputs": [
    {
     "name": "stdout",
     "output_type": "stream",
     "text": [
      "hello world <class 'str'>\n"
     ]
    }
   ],
   "source": [
    "# string concatenation: '+'\n",
    "st1 = 'hello'\n",
    "st2 = 'world'\n",
    "x = st1+' '+st2\n",
    "print(x, type(x))\n",
    " "
   ]
  },
  {
   "cell_type": "code",
   "execution_count": null,
   "metadata": {},
   "outputs": [],
   "source": []
  },
  {
   "cell_type": "code",
   "execution_count": 35,
   "metadata": {},
   "outputs": [
    {
     "name": "stdout",
     "output_type": "stream",
     "text": [
      "$                  $\n",
      "$$                $$\n",
      "$$$              $$$\n",
      "$$$$            $$$$\n",
      "$$$$$          $$$$$\n",
      "$$$$$$        $$$$$$\n",
      "$$$$$$$      $$$$$$$\n",
      "$$$$$$$$    $$$$$$$$\n",
      "$$$$$$$$$  $$$$$$$$$\n",
      "$$$$$$$$$$$$$$$$$$$$\n"
     ]
    }
   ],
   "source": [
    "# string repetition \n",
    "rows = 10\n",
    "for i in range(1, rows+1):\n",
    "    print('$'*i+' '*(rows-i)+' '*(rows-i)+'$'*i)"
   ]
  },
  {
   "cell_type": "code",
   "execution_count": 40,
   "metadata": {},
   "outputs": [
    {
     "name": "stdout",
     "output_type": "stream",
     "text": [
      "hellohello\n"
     ]
    }
   ],
   "source": [
    "st = 'hello'\n",
    "out =st * 2\n",
    "print(out)"
   ]
  },
  {
   "cell_type": "code",
   "execution_count": 53,
   "metadata": {},
   "outputs": [
    {
     "name": "stdout",
     "output_type": "stream",
     "text": [
      "l\n"
     ]
    }
   ],
   "source": [
    "# how to access the elements from string object \n",
    "st = 'hello python'\n",
    "# 1. indexing: get the element (char) at position\n",
    "out = st[-10]\n",
    "print(out)"
   ]
  },
  {
   "cell_type": "code",
   "execution_count": 13,
   "metadata": {},
   "outputs": [
    {
     "name": "stdout",
     "output_type": "stream",
     "text": [
      "pe\n"
     ]
    }
   ],
   "source": [
    "# slicing range: get elements with range (substring)\n",
    "# str[start:stop:step=1]\n",
    "st = 'help'\n",
    "out = st[4::-2]  # start:1 stop: 10 [10,  8,  6,  4,  2]  \n",
    "print(out)"
   ]
  },
  {
   "cell_type": "code",
   "execution_count": 18,
   "metadata": {},
   "outputs": [
    {
     "name": "stdout",
     "output_type": "stream",
     "text": [
      "1\n"
     ]
    }
   ],
   "source": [
    "# methods in String \n",
    "# 1. count(): count the number of occurance of any pattern in a string \n",
    "\n",
    "st = 'hello'\n",
    "out = st.count('ll')\n",
    "print(out)"
   ]
  },
  {
   "cell_type": "code",
   "execution_count": 26,
   "metadata": {},
   "outputs": [
    {
     "ename": "ValueError",
     "evalue": "substring not found",
     "output_type": "error",
     "traceback": [
      "\u001b[1;31m---------------------------------------------------------------------------\u001b[0m",
      "\u001b[1;31mValueError\u001b[0m                                Traceback (most recent call last)",
      "\u001b[1;32mf:\\Python310\\Session2023-24\\Btech2023-24\\Batch2023-24\\Programs\\string\\basics.ipynb Cell 14\u001b[0m line \u001b[0;36m4\n\u001b[0;32m      <a href='vscode-notebook-cell:/f%3A/Python310/Session2023-24/Btech2023-24/Batch2023-24/Programs/string/basics.ipynb#X21sZmlsZQ%3D%3D?line=1'>2</a>\u001b[0m st \u001b[39m=\u001b[39m \u001b[39m'\u001b[39m\u001b[39mhello world\u001b[39m\u001b[39m'\u001b[39m\n\u001b[0;32m      <a href='vscode-notebook-cell:/f%3A/Python310/Session2023-24/Btech2023-24/Batch2023-24/Programs/string/basics.ipynb#X21sZmlsZQ%3D%3D?line=2'>3</a>\u001b[0m ch \u001b[39m=\u001b[39m \u001b[39m'\u001b[39m\u001b[39mx\u001b[39m\u001b[39m'\u001b[39m\n\u001b[1;32m----> <a href='vscode-notebook-cell:/f%3A/Python310/Session2023-24/Btech2023-24/Batch2023-24/Programs/string/basics.ipynb#X21sZmlsZQ%3D%3D?line=3'>4</a>\u001b[0m out \u001b[39m=\u001b[39m st\u001b[39m.\u001b[39mrindex(ch)\n\u001b[0;32m      <a href='vscode-notebook-cell:/f%3A/Python310/Session2023-24/Btech2023-24/Batch2023-24/Programs/string/basics.ipynb#X21sZmlsZQ%3D%3D?line=4'>5</a>\u001b[0m \u001b[39mprint\u001b[39m(out)\n",
      "\u001b[1;31mValueError\u001b[0m: substring not found"
     ]
    }
   ],
   "source": [
    "# index()/rindex(): return index value of first match \n",
    "st = 'hello world'\n",
    "ch = 'x'\n",
    "out = st.rindex(ch)\n",
    "print(out) "
   ]
  },
  {
   "cell_type": "code",
   "execution_count": 28,
   "metadata": {},
   "outputs": [
    {
     "name": "stdout",
     "output_type": "stream",
     "text": [
      "-1\n"
     ]
    }
   ],
   "source": [
    "# find()/rfind(): return index value of first match. return -1 if match is not found\n",
    "st = 'hello world'\n",
    "ch = 'x'\n",
    "out = st.find(ch)\n",
    "print(out) "
   ]
  },
  {
   "cell_type": "code",
   "execution_count": 34,
   "metadata": {},
   "outputs": [
    {
     "name": "stdout",
     "output_type": "stream",
     "text": [
      "4 10 15 "
     ]
    }
   ],
   "source": [
    "# display all index of any char in a string \n",
    "st = 'hello python programming'\n",
    "ch = 'o'\n",
    "s = 0\n",
    "for i in range(st.count(ch)):\n",
    "    out =st.index(ch, s)\n",
    "    print(out, end=' ')\n",
    "    s = out + 1"
   ]
  },
  {
   "cell_type": "code",
   "execution_count": 54,
   "metadata": {},
   "outputs": [
    {
     "name": "stdout",
     "output_type": "stream",
     "text": [
      "['hello', 'wor', 'ld', 'Programming']\n"
     ]
    }
   ],
   "source": [
    "# split(): break the string  with given pattern \n",
    "st = 'hello\\twor        ld\\nProgramming'\n",
    "out = st.split()\n",
    "print(out)"
   ]
  },
  {
   "cell_type": "code",
   "execution_count": null,
   "metadata": {},
   "outputs": [],
   "source": [
    "# \n",
    "out = len(st)\n",
    "print()"
   ]
  },
  {
   "cell_type": "code",
   "execution_count": null,
   "metadata": {},
   "outputs": [],
   "source": [
    "# "
   ]
  }
 ],
 "metadata": {
  "kernelspec": {
   "display_name": "Python 3",
   "language": "python",
   "name": "python3"
  },
  "language_info": {
   "codemirror_mode": {
    "name": "ipython",
    "version": 3
   },
   "file_extension": ".py",
   "mimetype": "text/x-python",
   "name": "python",
   "nbconvert_exporter": "python",
   "pygments_lexer": "ipython3",
   "version": "3.10.7"
  },
  "orig_nbformat": 4
 },
 "nbformat": 4,
 "nbformat_minor": 2
}
