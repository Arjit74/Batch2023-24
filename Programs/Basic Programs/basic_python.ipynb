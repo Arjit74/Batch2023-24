{
 "cells": [
  {
   "cell_type": "code",
   "execution_count": null,
   "metadata": {},
   "outputs": [],
   "source": [
    "# Python is Interpreted Language\n",
    "# Python is Dynamically Typed Language\n",
    "# Python is Object Oriented Language\n",
    "# Python is High Level Language\n",
    "# Python is General Purpose Language\n",
    "# Python is Beginner's Language\n",
    "# Python is Portable Language\n",
    "# Python is Extensible Language\n",
    "# Python is Embeddable Language\n",
    "# Python is Extensive Library\n",
    "# Python is Free and Open Source Language\n",
    "# Python is Case Sensitive Language\n",
    "# Python is a Programming Language\n",
    "# Python is a Scripting Language\n",
    "# Python is a Functional Language\n",
    "# Python is a Procedural Language\n",
    "# Python is a Modular Language\n",
    "# Python is a Structured Language"
   ]
  },
  {
   "cell_type": "code",
   "execution_count": 1,
   "metadata": {},
   "outputs": [
    {
     "name": "stdout",
     "output_type": "stream",
     "text": [
      "<class 'int'>\n"
     ]
    }
   ],
   "source": [
    "# auto declare variable\n",
    "# auto memory management\n",
    "# auto garbage collection\n",
    "\n",
    "a = 10  # based on value variable a associat with int\n",
    "print(type(a))"
   ]
  },
  {
   "cell_type": "code",
   "execution_count": null,
   "metadata": {},
   "outputs": [],
   "source": []
  }
 ],
 "metadata": {
  "kernelspec": {
   "display_name": "Python 3",
   "language": "python",
   "name": "python3"
  },
  "language_info": {
   "codemirror_mode": {
    "name": "ipython",
    "version": 3
   },
   "file_extension": ".py",
   "mimetype": "text/x-python",
   "name": "python",
   "nbconvert_exporter": "python",
   "pygments_lexer": "ipython3",
   "version": "3.10.7"
  },
  "orig_nbformat": 4
 },
 "nbformat": 4,
 "nbformat_minor": 2
}
