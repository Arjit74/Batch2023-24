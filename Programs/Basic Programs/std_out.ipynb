{
 "cells": [
  {
   "cell_type": "code",
   "execution_count": null,
   "metadata": {},
   "outputs": [],
   "source": [
    "# stdout: \n"
   ]
  },
  {
   "cell_type": "code",
   "execution_count": null,
   "metadata": {},
   "outputs": [],
   "source": [
    "a = eval(input())  # 23\n",
    "b = eval(input())   # 20\n",
    "c = a + b\n",
    "# 1. optional positional arguments  \n",
    "'''\n",
    "print(obj1, obj2, ..., sep=' ', end='\\n')\n",
    "'''   "
   ]
  },
  {
   "cell_type": "code",
   "execution_count": 33,
   "metadata": {},
   "outputs": [
    {
     "name": "stdout",
     "output_type": "stream",
     "text": [
      "Result is\n",
      "23\n"
     ]
    }
   ],
   "source": [
    "a = 3\n",
    "b = 20\n",
    "c = a + b\n",
    "print(\"Result is\",c, sep='\\n')"
   ]
  },
  {
   "cell_type": "code",
   "execution_count": 39,
   "metadata": {},
   "outputs": [
    {
     "name": "stdout",
     "output_type": "stream",
     "text": [
      "value of a 34.0 2334.0and value of b 23\n"
     ]
    }
   ],
   "source": [
    "# 2. String format :\n",
    "''''''\n",
    "a = 23\n",
    "b = 34.0\n",
    "x = 'value of a {} and value of b {}'. format(a, b)\n",
    "print(x)"
   ]
  },
  {
   "cell_type": "code",
   "execution_count": 45,
   "metadata": {},
   "outputs": [
    {
     "name": "stdout",
     "output_type": "stream",
     "text": [
      "value of 23.456 and value of b 20.22\n"
     ]
    }
   ],
   "source": [
    "# f-tag string\n",
    "a = 23.45566\n",
    "b = 20.22223\n",
    "x = f'value of {a:.3f} and value of b {b:.2f}'\n",
    "print(x)"
   ]
  },
  {
   "cell_type": "code",
   "execution_count": 18,
   "metadata": {},
   "outputs": [],
   "source": [
    "hello = 'a'"
   ]
  },
  {
   "cell_type": "code",
   "execution_count": 19,
   "metadata": {},
   "outputs": [
    {
     "name": "stdout",
     "output_type": "stream",
     "text": [
      "a <class 'str'>\n"
     ]
    }
   ],
   "source": [
    "st = 'hello'\n",
    "out = eval(st)\n",
    "print(out, type(out))"
   ]
  },
  {
   "cell_type": "code",
   "execution_count": 21,
   "metadata": {},
   "outputs": [],
   "source": [
    "a = 'hello'\n",
    "hello = 'a'"
   ]
  },
  {
   "cell_type": "code",
   "execution_count": 23,
   "metadata": {},
   "outputs": [
    {
     "name": "stdout",
     "output_type": "stream",
     "text": [
      "hello <class 'str'>\n"
     ]
    }
   ],
   "source": [
    "re = eval(eval(a))\n",
    "print(re, type(re))"
   ]
  },
  {
   "cell_type": "code",
   "execution_count": 2,
   "metadata": {},
   "outputs": [
    {
     "name": "stdout",
     "output_type": "stream",
     "text": [
      "1\n"
     ]
    }
   ],
   "source": [
    "a = 1 + False\n",
    "print(a)"
   ]
  },
  {
   "cell_type": "code",
   "execution_count": 54,
   "metadata": {},
   "outputs": [
    {
     "name": "stdout",
     "output_type": "stream",
     "text": [
      "value of a:            23.340000\n",
      "value of b:            203434343\n"
     ]
    }
   ],
   "source": [
    "# string justification \n",
    "a = 23.34\n",
    "b = 203434343\n",
    "print(f'value of a: {a:>20.6f}')\n",
    "print(f'value of b: {b:>20}')"
   ]
  }
 ],
 "metadata": {
  "kernelspec": {
   "display_name": "Python 3",
   "language": "python",
   "name": "python3"
  },
  "language_info": {
   "codemirror_mode": {
    "name": "ipython",
    "version": 3
   },
   "file_extension": ".py",
   "mimetype": "text/x-python",
   "name": "python",
   "nbconvert_exporter": "python",
   "pygments_lexer": "ipython3",
   "version": "3.10.7"
  },
  "orig_nbformat": 4
 },
 "nbformat": 4,
 "nbformat_minor": 2
}
